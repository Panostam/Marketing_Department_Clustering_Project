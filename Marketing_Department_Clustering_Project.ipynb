{
 "cells": [
  {
   "cell_type": "markdown",
   "metadata": {},
   "source": [
    "# Marketing_Department_Clustering_Project"
   ]
  },
  {
   "cell_type": "markdown",
   "metadata": {},
   "source": [
    "#### Author: Panagiotis Tamtakos\n",
    "#### Summary: In this project consultance will be given to the marketing department of a bank by dividing the bank's customers into distinctive groups for the purpose of launching a targeted ad marketing campaign relating to the bank's customers. This project is organised as follows: (a) Exploratory data analysis and vizualization, (b) application of the K-means clustering method, (c) Dimensionality reduction with principal component analysis and autoencoders."
   ]
  },
  {
   "cell_type": "markdown",
   "metadata": {},
   "source": [
    "### Introduction:\n",
    "* Marketing is crucial for the growth and sustainability of any business.\n",
    "* Marketers can help build the company's brand, engage customers, grow revenue and increase sales.\n",
    "* One of the key pain points for marketers is to know their customers and identify their needs.\n",
    "* By understanding the customer, marketers can launch a targeted marketing campaign that is tailored for specific needs.\n",
    "* If data about the customers is available, data science can be applied to perform market segmentation."
   ]
  },
  {
   "cell_type": "markdown",
   "metadata": {},
   "source": [
    "#### In this project consultance will be given to a bank's marketing team in order to assist them in launching a targeted ad campaign. This will be done by analyzing the bank's customer data for the last six months and diving the customers into distinctive groups."
   ]
  },
  {
   "cell_type": "markdown",
   "metadata": {},
   "source": [
    "## 0. Import the required libraries and read the data set."
   ]
  },
  {
   "cell_type": "code",
   "execution_count": 1,
   "metadata": {},
   "outputs": [],
   "source": [
    "import pandas as pd\n",
    "import numpy as np\n",
    "import seaborn as sns\n",
    "import matplotlib.pyplot as plt\n",
    "from sklearn.preprocessing import StandardScaler, normalize\n",
    "from sklearn.cluster import KMeans\n",
    "from sklearn.decomposition import PCA"
   ]
  },
  {
   "cell_type": "code",
   "execution_count": null,
   "metadata": {},
   "outputs": [],
   "source": []
  }
 ],
 "metadata": {
  "kernelspec": {
   "display_name": "Python 3",
   "language": "python",
   "name": "python3"
  },
  "language_info": {
   "codemirror_mode": {
    "name": "ipython",
    "version": 3
   },
   "file_extension": ".py",
   "mimetype": "text/x-python",
   "name": "python",
   "nbconvert_exporter": "python",
   "pygments_lexer": "ipython3",
   "version": "3.8.3"
  }
 },
 "nbformat": 4,
 "nbformat_minor": 4
}
